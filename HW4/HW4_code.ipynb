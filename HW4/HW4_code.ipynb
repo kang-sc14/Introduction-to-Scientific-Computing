{
 "cells": [
  {
   "cell_type": "code",
   "execution_count": 11,
   "id": "de757c9d",
   "metadata": {},
   "outputs": [
    {
     "name": "stdout",
     "output_type": "stream",
     "text": [
      "Problem 1: ∫0^∞ 1/(1 + 25 x²) dx\n",
      "Analytical: 0.314159265358979\n",
      "SciPy quad: 0.314159265358979 (est. error: 3.49e-15)\n",
      "Gauss-Legendre (n=16): 0.314159265358979 (error: 0.00e+00)\n",
      "\n",
      "Problem 2: ∫0^1 ln(x)/(1 + 25 x²) dx\n",
      "SciPy quad: -0.545444563419798 (est. error: 6.75e-15)\n",
      "Gauss-Legendre (transformed, n=128): -0.545444563419786 (error: 1.19e-14)\n",
      "\n",
      "Verification:\n",
      "Problem 1 error < 1e-10: True\n",
      "Problem 2 difference between methods < 1e-10: True\n"
     ]
    }
   ],
   "source": [
    "# ==================================================\n",
    "# HIGH-PRECISION NUMERICAL INTEGRATION (SIMPLIFIED)\n",
    "# ==================================================\n",
    "import numpy as np\n",
    "from scipy import integrate\n",
    "\n",
    "# ----------------------------\n",
    "# Problem 1: ∫0^∞ 1/(1 + 25 x²) dx\n",
    "# ----------------------------\n",
    "analytical_1 = np.pi / 10\n",
    "print(\"Problem 1: ∫0^∞ 1/(1 + 25 x²) dx\")\n",
    "print(f\"Analytical: {analytical_1:.15f}\")\n",
    "\n",
    "# Transform x = (1/5)*tan(t) => integrand becomes constant 1/5\n",
    "def f1_transformed(t):\n",
    "    return 1/5\n",
    "\n",
    "# SciPy quad\n",
    "res1_quad, err1_quad = integrate.quad(f1_transformed, 0, np.pi/2, epsabs=1e-15, epsrel=1e-15)\n",
    "print(f\"SciPy quad: {res1_quad:.15f} (est. error: {err1_quad:.2e})\")\n",
    "\n",
    "# Gauss-Legendre\n",
    "def gauss_legendre(f, a, b, n=16):\n",
    "    result, _ = integrate.fixed_quad(f, a, b, n=n)\n",
    "    return result\n",
    "\n",
    "res1_gauss = gauss_legendre(f1_transformed, 0, np.pi/2, n=16)\n",
    "print(f\"Gauss-Legendre (n=16): {res1_gauss:.15f} (error: {abs(res1_gauss-analytical_1):.2e})\")\n",
    "\n",
    "# ----------------------------\n",
    "# Problem 2: ∫0^1 ln(x)/(1 + 25 x²) dx\n",
    "# ----------------------------\n",
    "print(\"\\nProblem 2: ∫0^1 ln(x)/(1 + 25 x²) dx\")\n",
    "\n",
    "# Original integrand\n",
    "def f2(x):\n",
    "    x = np.atleast_1d(x)\n",
    "    result = np.zeros_like(x, dtype=float)\n",
    "    mask = x > 0\n",
    "    result[mask] = np.log(x[mask]) / (1 + 25 * x[mask]**2)\n",
    "    return result if result.size > 1 else result.item()\n",
    "\n",
    "# Method 1: SciPy quad\n",
    "res2_quad, err2_quad = integrate.quad(f2, 0, 1, epsabs=1e-15, epsrel=1e-15)\n",
    "print(f\"SciPy quad: {res2_quad:.15f} (est. error: {err2_quad:.2e})\")\n",
    "\n",
    "# Method 2: Variable substitution x = t^k to smooth ln(x) singularity\n",
    "def f2_transformed(t, k=4):\n",
    "    t = np.atleast_1d(t)\n",
    "    result = np.zeros_like(t, dtype=float)\n",
    "    mask = t > 0\n",
    "    result[mask] = k**2 * t[mask]**(k-1) * np.log(t[mask]) / (1 + 25 * t[mask]**(2*k))\n",
    "    return result if result.size > 1 else result.item()\n",
    "\n",
    "res2_gauss = gauss_legendre(lambda t: f2_transformed(t, k=4), 0, 1, n=128)\n",
    "print(f\"Gauss-Legendre (transformed, n=128): {res2_gauss:.15f} (error: {abs(res2_gauss-res2_quad):.2e})\")\n",
    "\n",
    "# ----------------------------\n",
    "# Final verification\n",
    "# ----------------------------\n",
    "target_precision = 1e-10\n",
    "print(\"\\nVerification:\")\n",
    "print(f\"Problem 1 error < {target_precision}: {abs(res1_gauss-analytical_1) < target_precision}\")\n",
    "print(f\"Problem 2 difference between methods < {target_precision}: {abs(res2_gauss-res2_quad) < target_precision}\")\n"
   ]
  },
  {
   "cell_type": "code",
   "execution_count": null,
   "id": "14b2fc70",
   "metadata": {},
   "outputs": [],
   "source": []
  }
 ],
 "metadata": {
  "kernelspec": {
   "display_name": "Python 3 (ipykernel)",
   "language": "python",
   "name": "python3"
  },
  "language_info": {
   "codemirror_mode": {
    "name": "ipython",
    "version": 3
   },
   "file_extension": ".py",
   "mimetype": "text/x-python",
   "name": "python",
   "nbconvert_exporter": "python",
   "pygments_lexer": "ipython3",
   "version": "3.9.7"
  }
 },
 "nbformat": 4,
 "nbformat_minor": 5
}
